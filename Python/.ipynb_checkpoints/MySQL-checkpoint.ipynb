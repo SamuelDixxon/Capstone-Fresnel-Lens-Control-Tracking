{
 "cells": [
  {
   "cell_type": "code",
   "execution_count": 10,
   "metadata": {},
   "outputs": [],
   "source": [
    "# DB instance identifier: database-1\n",
    "# username: admin\n",
    "# pass: Wearethe0ne!\n",
    "# host: database-1.cluster-cwlcubc14m5f.us-east-2.rds.amazonaws.com\n",
    "# port: 3306\n",
    "#!pip install PyMySQL\n",
    "import pymysql\n",
    "import time\n",
    "import random as rd\n",
    "import json\n",
    "import numpy as np"
   ]
  },
  {
   "cell_type": "code",
   "execution_count": 11,
   "metadata": {},
   "outputs": [
    {
     "name": "stdout",
     "output_type": "stream",
     "text": [
      "('8.0.28',)\n"
     ]
    }
   ],
   "source": [
    "db = pymysql.connect(host='capstone-test.cwlcubc14m5f.us-east-2.rds.amazonaws.com', database='capstone',\n",
    "                     user='admin', password='EuqmBmOUwNXcPlrHYJFM', port=3306)\n",
    "cursor = db.cursor()\n",
    "cursor.execute(\"select version()\") # get the version\n",
    "data = cursor.fetchone()\n",
    "print(data)\n",
    "sql = '''create database if not exists capstone''' # create the database\n",
    "cursor.execute(sql)\n",
    "cursor.connection.commit() # commit the change"
   ]
  },
  {
   "cell_type": "code",
   "execution_count": 12,
   "metadata": {},
   "outputs": [
    {
     "data": {
      "text/plain": [
       "0"
      ]
     },
     "execution_count": 12,
     "metadata": {},
     "output_type": "execute_result"
    }
   ],
   "source": [
    "sql = '''use capstone''' # sql command to use the database named capstone\n",
    "cursor.execute(sql) # executing the sql code \n",
    "sql = '''DROP table Data''' # dropping the old table so necessary for making changes to writing a new table\n",
    "cursor.execute(sql)\n",
    "sql = ''' \n",
    "create table Data (\n",
    "id int not null auto_increment,\n",
    "sensor text,\n",
    "value float,\n",
    "timestamp int,\n",
    "primary key (id)\n",
    ")''' # create table called data where data will be stored in a relational MySQL database\n",
    "cursor.execute(sql) # executing the sql in python"
   ]
  },
  {
   "cell_type": "code",
   "execution_count": 13,
   "metadata": {},
   "outputs": [
    {
     "data": {
      "text/plain": [
       "(('Data',),)"
      ]
     },
     "execution_count": 13,
     "metadata": {},
     "output_type": "execute_result"
    }
   ],
   "source": [
    "sql = '''show tables'''\n",
    "cursor.execute(sql) # executing the sql in python\n",
    "cursor.fetchall() # fetching all the data at the reference"
   ]
  },
  {
   "cell_type": "code",
   "execution_count": 14,
   "metadata": {},
   "outputs": [],
   "source": [
    "vals = np.linspace(0, 2*np.pi, 50)\n",
    "y1 = np.cos(vals)\n",
    "y2 = vals*vals\n",
    "\n",
    "\n",
    "for i in range(1, 50):\n",
    "    sql = '''insert into Data(sensor, value, timestamp) values('%s', '%f', '%d')''' % ('Magnetometer1', y1[i-1], i) # inserting these value\n",
    "    cursor.execute(sql)\n",
    "    sql = '''insert into Data(sensor, value, timestamp) values('%s', '%f', '%d')''' % ('Magnetometer2', y2[i-1], i) # inserting these valuess\n",
    "    cursor.execute(sql)"
   ]
  },
  {
   "cell_type": "code",
   "execution_count": 15,
   "metadata": {
    "scrolled": true
   },
   "outputs": [
    {
     "name": "stdout",
     "output_type": "stream",
     "text": [
      "((1, 'Magnetometer2', 0.0, 1), (2, 'Magnetometer2', 0.016442, 2), (3, 'Magnetometer2', 0.06577, 3), (4, 'Magnetometer2', 0.147982, 4), (5, 'Magnetometer2', 0.26308, 5), (6, 'Magnetometer2', 0.411062, 6), (7, 'Magnetometer2', 0.59193, 7), (8, 'Magnetometer2', 0.805682, 8), (9, 'Magnetometer2', 1.05232, 9), (10, 'Magnetometer2', 1.33184, 10), (11, 'Magnetometer2', 1.64425, 11), (12, 'Magnetometer2', 1.98954, 12), (13, 'Magnetometer2', 2.36772, 13), (14, 'Magnetometer2', 2.77878, 14), (15, 'Magnetometer2', 3.22273, 15), (16, 'Magnetometer2', 3.69956, 16), (17, 'Magnetometer2', 4.20928, 17), (18, 'Magnetometer2', 4.75188, 18), (19, 'Magnetometer2', 5.32737, 19), (20, 'Magnetometer2', 5.93574, 20), (21, 'Magnetometer2', 6.577, 21), (22, 'Magnetometer2', 7.25114, 22), (23, 'Magnetometer2', 7.95817, 23), (24, 'Magnetometer2', 8.69808, 24), (25, 'Magnetometer2', 9.47087, 25), (26, 'Magnetometer2', 10.2766, 26), (27, 'Magnetometer2', 11.1151, 27), (28, 'Magnetometer2', 11.9866, 28), (29, 'Magnetometer2', 12.8909, 29), (30, 'Magnetometer2', 13.8281, 30), (31, 'Magnetometer2', 14.7982, 31), (32, 'Magnetometer2', 15.8012, 32), (33, 'Magnetometer2', 16.8371, 33), (34, 'Magnetometer2', 17.9059, 34), (35, 'Magnetometer2', 19.0075, 35), (36, 'Magnetometer2', 20.142, 36), (37, 'Magnetometer2', 21.3095, 37), (38, 'Magnetometer2', 22.5098, 38), (39, 'Magnetometer2', 23.743, 39), (40, 'Magnetometer2', 25.009, 40), (41, 'Magnetometer2', 26.308, 41), (42, 'Magnetometer2', 27.6398, 42), (43, 'Magnetometer2', 29.0046, 43), (44, 'Magnetometer2', 30.4022, 44), (45, 'Magnetometer2', 31.8327, 45), (46, 'Magnetometer2', 33.296, 46), (47, 'Magnetometer2', 34.7923, 47), (48, 'Magnetometer2', 36.3215, 48), (49, 'Magnetometer2', 37.8835, 49))\n",
      "{\"1\": {\"name\": \"Magnetometer2\", \"value\": 0.0, \"timestamp\": 1}, \"2\": {\"name\": \"Magnetometer2\", \"value\": 0.016442, \"timestamp\": 2}, \"3\": {\"name\": \"Magnetometer2\", \"value\": 0.06577, \"timestamp\": 3}, \"4\": {\"name\": \"Magnetometer2\", \"value\": 0.147982, \"timestamp\": 4}, \"5\": {\"name\": \"Magnetometer2\", \"value\": 0.26308, \"timestamp\": 5}, \"6\": {\"name\": \"Magnetometer2\", \"value\": 0.411062, \"timestamp\": 6}, \"7\": {\"name\": \"Magnetometer2\", \"value\": 0.59193, \"timestamp\": 7}, \"8\": {\"name\": \"Magnetometer2\", \"value\": 0.805682, \"timestamp\": 8}, \"9\": {\"name\": \"Magnetometer2\", \"value\": 1.05232, \"timestamp\": 9}, \"10\": {\"name\": \"Magnetometer2\", \"value\": 1.33184, \"timestamp\": 10}, \"11\": {\"name\": \"Magnetometer2\", \"value\": 1.64425, \"timestamp\": 11}, \"12\": {\"name\": \"Magnetometer2\", \"value\": 1.98954, \"timestamp\": 12}, \"13\": {\"name\": \"Magnetometer2\", \"value\": 2.36772, \"timestamp\": 13}, \"14\": {\"name\": \"Magnetometer2\", \"value\": 2.77878, \"timestamp\": 14}, \"15\": {\"name\": \"Magnetometer2\", \"value\": 3.22273, \"timestamp\": 15}, \"16\": {\"name\": \"Magnetometer2\", \"value\": 3.69956, \"timestamp\": 16}, \"17\": {\"name\": \"Magnetometer2\", \"value\": 4.20928, \"timestamp\": 17}, \"18\": {\"name\": \"Magnetometer2\", \"value\": 4.75188, \"timestamp\": 18}, \"19\": {\"name\": \"Magnetometer2\", \"value\": 5.32737, \"timestamp\": 19}, \"20\": {\"name\": \"Magnetometer2\", \"value\": 5.93574, \"timestamp\": 20}, \"21\": {\"name\": \"Magnetometer2\", \"value\": 6.577, \"timestamp\": 21}, \"22\": {\"name\": \"Magnetometer2\", \"value\": 7.25114, \"timestamp\": 22}, \"23\": {\"name\": \"Magnetometer2\", \"value\": 7.95817, \"timestamp\": 23}, \"24\": {\"name\": \"Magnetometer2\", \"value\": 8.69808, \"timestamp\": 24}, \"25\": {\"name\": \"Magnetometer2\", \"value\": 9.47087, \"timestamp\": 25}, \"26\": {\"name\": \"Magnetometer2\", \"value\": 10.2766, \"timestamp\": 26}, \"27\": {\"name\": \"Magnetometer2\", \"value\": 11.1151, \"timestamp\": 27}, \"28\": {\"name\": \"Magnetometer2\", \"value\": 11.9866, \"timestamp\": 28}, \"29\": {\"name\": \"Magnetometer2\", \"value\": 12.8909, \"timestamp\": 29}, \"30\": {\"name\": \"Magnetometer2\", \"value\": 13.8281, \"timestamp\": 30}, \"31\": {\"name\": \"Magnetometer2\", \"value\": 14.7982, \"timestamp\": 31}, \"32\": {\"name\": \"Magnetometer2\", \"value\": 15.8012, \"timestamp\": 32}, \"33\": {\"name\": \"Magnetometer2\", \"value\": 16.8371, \"timestamp\": 33}, \"34\": {\"name\": \"Magnetometer2\", \"value\": 17.9059, \"timestamp\": 34}, \"35\": {\"name\": \"Magnetometer2\", \"value\": 19.0075, \"timestamp\": 35}, \"36\": {\"name\": \"Magnetometer2\", \"value\": 20.142, \"timestamp\": 36}, \"37\": {\"name\": \"Magnetometer2\", \"value\": 21.3095, \"timestamp\": 37}, \"38\": {\"name\": \"Magnetometer2\", \"value\": 22.5098, \"timestamp\": 38}, \"39\": {\"name\": \"Magnetometer2\", \"value\": 23.743, \"timestamp\": 39}, \"40\": {\"name\": \"Magnetometer2\", \"value\": 25.009, \"timestamp\": 40}, \"41\": {\"name\": \"Magnetometer2\", \"value\": 26.308, \"timestamp\": 41}, \"42\": {\"name\": \"Magnetometer2\", \"value\": 27.6398, \"timestamp\": 42}, \"43\": {\"name\": \"Magnetometer2\", \"value\": 29.0046, \"timestamp\": 43}, \"44\": {\"name\": \"Magnetometer2\", \"value\": 30.4022, \"timestamp\": 44}, \"45\": {\"name\": \"Magnetometer2\", \"value\": 31.8327, \"timestamp\": 45}, \"46\": {\"name\": \"Magnetometer2\", \"value\": 33.296, \"timestamp\": 46}, \"47\": {\"name\": \"Magnetometer2\", \"value\": 34.7923, \"timestamp\": 47}, \"48\": {\"name\": \"Magnetometer2\", \"value\": 36.3215, \"timestamp\": 48}, \"49\": {\"name\": \"Magnetometer2\", \"value\": 37.8835, \"timestamp\": 49}}\n"
     ]
    }
   ],
   "source": [
    "sql = '''select * from Data'''\n",
    "cursor.execute(sql) # executing the sql in python\n",
    "cursor.connection.commit() # commit the change\n",
    "result = cursor.fetchall() # fetching all the data at the reference\n",
    "print(result)\n",
    "\n",
    "class create_dict(dict): \n",
    "  \n",
    "    # __init__ function \n",
    "    def __init__(self): \n",
    "        self = dict() \n",
    "          \n",
    "    # Function to add key:value \n",
    "    def add(self, key, value): \n",
    "        self[key] = value\n",
    "        \n",
    "mydict = create_dict()\n",
    "\n",
    "for row in result:\n",
    "    mydict.add(row[0],({\"name\":row[1],\"value\":row[2],\"timestamp\":row[3]}))\n",
    "\n",
    "a = json.dumps(mydict)\n",
    "print(a)"
   ]
  },
  {
   "cell_type": "code",
   "execution_count": null,
   "metadata": {},
   "outputs": [],
   "source": []
  }
 ],
 "metadata": {
  "kernelspec": {
   "display_name": "Python 3",
   "language": "python",
   "name": "python3"
  },
  "language_info": {
   "codemirror_mode": {
    "name": "ipython",
    "version": 3
   },
   "file_extension": ".py",
   "mimetype": "text/x-python",
   "name": "python",
   "nbconvert_exporter": "python",
   "pygments_lexer": "ipython3",
   "version": "3.8.5"
  }
 },
 "nbformat": 4,
 "nbformat_minor": 4
}
