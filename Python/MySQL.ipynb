{
 "cells": [
  {
   "cell_type": "code",
   "execution_count": 26,
   "metadata": {},
   "outputs": [],
   "source": [
    "# DB instance identifier: database-1\n",
    "# username: admin\n",
    "# pass: Wearethe0ne!\n",
    "# host: database-1.cluster-cwlcubc14m5f.us-east-2.rds.amazonaws.com\n",
    "# port: 3306\n",
    "#!pip install PyMySQL\n",
    "import pymysql\n",
    "import time\n",
    "import random as rd\n",
    "import json"
   ]
  },
  {
   "cell_type": "code",
   "execution_count": 9,
   "metadata": {},
   "outputs": [
    {
     "name": "stdout",
     "output_type": "stream",
     "text": [
      "('8.0.28',)\n"
     ]
    }
   ],
   "source": [
    "db = pymysql.connect(host='database-1.cwlcubc14m5f.us-east-2.rds.amazonaws.com', \n",
    "                     user='admin', database='capstone', password='Wearethe0ne!', port=3306)\n",
    "cursor = db.cursor()\n",
    "cursor.execute(\"select version()\") # get the version\n",
    "data = cursor.fetchone()\n",
    "print(data)\n",
    "sql = '''create database if not exists capstone''' # create the database\n",
    "cursor.execute(sql)\n",
    "cursor.connection.commit() # commit the change"
   ]
  },
  {
   "cell_type": "code",
   "execution_count": 3,
   "metadata": {},
   "outputs": [
    {
     "data": {
      "text/plain": [
       "0"
      ]
     },
     "execution_count": 3,
     "metadata": {},
     "output_type": "execute_result"
    }
   ],
   "source": [
    "sql = '''use capstone''' # sql command to use the database named capstone\n",
    "cursor.execute(sql) # executing the sql code \n",
    "sql = '''DROP table Data''' # dropping the old table so necessary for making changes to writing a new table\n",
    "cursor.execute(sql)\n",
    "sql = ''' \n",
    "create table Data (\n",
    "id int not null auto_increment,\n",
    "sensor text,\n",
    "value float,\n",
    "timestamp int,\n",
    "primary key (id)\n",
    ")''' # create table called data where data will be stored in a relational MySQL database\n",
    "cursor.execute(sql) # executing the sql in python"
   ]
  },
  {
   "cell_type": "code",
   "execution_count": 19,
   "metadata": {},
   "outputs": [
    {
     "data": {
      "text/plain": [
       "(('Data',),)"
      ]
     },
     "execution_count": 19,
     "metadata": {},
     "output_type": "execute_result"
    }
   ],
   "source": [
    "sql = '''show tables'''\n",
    "cursor.execute(sql) # executing the sql in python\n",
    "cursor.fetchall() # fetching all the data at the reference"
   ]
  },
  {
   "cell_type": "code",
   "execution_count": 32,
   "metadata": {},
   "outputs": [],
   "source": [
    "for i in range(10):\n",
    "    sql = '''insert into Data(sensor, value, timestamp) values('%s', '%f', '%d')''' % ('Magnetometer1', rd.random(), i) # inserting these values\n",
    "    cursor.execute(sql)"
   ]
  },
  {
   "cell_type": "code",
   "execution_count": 2,
   "metadata": {
    "scrolled": true
   },
   "outputs": [
    {
     "ename": "NameError",
     "evalue": "name 'cursor' is not defined",
     "output_type": "error",
     "traceback": [
      "\u001b[1;31m---------------------------------------------------------------------------\u001b[0m",
      "\u001b[1;31mNameError\u001b[0m                                 Traceback (most recent call last)",
      "\u001b[1;32m<ipython-input-2-1e9216a2b0a5>\u001b[0m in \u001b[0;36m<module>\u001b[1;34m\u001b[0m\n\u001b[0;32m      1\u001b[0m \u001b[0msql\u001b[0m \u001b[1;33m=\u001b[0m \u001b[1;34m'''select * from Data'''\u001b[0m\u001b[1;33m\u001b[0m\u001b[1;33m\u001b[0m\u001b[0m\n\u001b[1;32m----> 2\u001b[1;33m \u001b[0mcursor\u001b[0m\u001b[1;33m.\u001b[0m\u001b[0mexecute\u001b[0m\u001b[1;33m(\u001b[0m\u001b[0msql\u001b[0m\u001b[1;33m)\u001b[0m \u001b[1;31m# executing the sql in python\u001b[0m\u001b[1;33m\u001b[0m\u001b[1;33m\u001b[0m\u001b[0m\n\u001b[0m\u001b[0;32m      3\u001b[0m \u001b[0mcursor\u001b[0m\u001b[1;33m.\u001b[0m\u001b[0mconnection\u001b[0m\u001b[1;33m.\u001b[0m\u001b[0mcommit\u001b[0m\u001b[1;33m(\u001b[0m\u001b[1;33m)\u001b[0m \u001b[1;31m# commit the change\u001b[0m\u001b[1;33m\u001b[0m\u001b[1;33m\u001b[0m\u001b[0m\n\u001b[0;32m      4\u001b[0m \u001b[0mresult\u001b[0m \u001b[1;33m=\u001b[0m \u001b[0mcursor\u001b[0m\u001b[1;33m.\u001b[0m\u001b[0mfetchall\u001b[0m\u001b[1;33m(\u001b[0m\u001b[1;33m)\u001b[0m \u001b[1;31m# fetching all the data at the reference\u001b[0m\u001b[1;33m\u001b[0m\u001b[1;33m\u001b[0m\u001b[0m\n\u001b[0;32m      5\u001b[0m \u001b[0mprint\u001b[0m\u001b[1;33m(\u001b[0m\u001b[0mresult\u001b[0m\u001b[1;33m)\u001b[0m\u001b[1;33m\u001b[0m\u001b[1;33m\u001b[0m\u001b[0m\n",
      "\u001b[1;31mNameError\u001b[0m: name 'cursor' is not defined"
     ]
    }
   ],
   "source": [
    "sql = '''select * from Data'''\n",
    "cursor.execute(sql) # executing the sql in python\n",
    "cursor.connection.commit() # commit the change\n",
    "result = cursor.fetchall() # fetching all the data at the reference\n",
    "print(result)\n",
    "\n",
    "class create_dict(dict): \n",
    "  \n",
    "    # __init__ function \n",
    "    def __init__(self): \n",
    "        self = dict() \n",
    "          \n",
    "    # Function to add key:value \n",
    "    def add(self, key, value): \n",
    "        self[key] = value\n",
    "        \n",
    "mydict = create_dict()\n",
    "\n",
    "for row in result:\n",
    "    mydict.add(row[0],({\"name\":row[1],\"email\":row[2],\"phone\":row[3]}))\n",
    "\n",
    "a = json.dumps(mydict)\n",
    "print(a)"
   ]
  }
 ],
 "metadata": {
  "kernelspec": {
   "display_name": "Python 3",
   "language": "python",
   "name": "python3"
  },
  "language_info": {
   "codemirror_mode": {
    "name": "ipython",
    "version": 3
   },
   "file_extension": ".py",
   "mimetype": "text/x-python",
   "name": "python",
   "nbconvert_exporter": "python",
   "pygments_lexer": "ipython3",
   "version": "3.8.5"
  }
 },
 "nbformat": 4,
 "nbformat_minor": 4
}
