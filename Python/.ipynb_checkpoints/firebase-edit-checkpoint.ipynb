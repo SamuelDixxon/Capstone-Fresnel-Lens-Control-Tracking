{
 "cells": [
  {
   "cell_type": "code",
   "execution_count": 18,
   "metadata": {},
   "outputs": [],
   "source": [
    "import firebase_admin\n",
    "from firebase_admin import credentials\n",
    "from firebase_admin import db\n",
    "import random as rd\n",
    "import time\n",
    "\n",
    "if not firebase_admin._apps:\n",
    "    cred = credentials.Certificate('secretkey.json')\n",
    "    firebase_admin.initialize_app(cred,\n",
    "                                  {'databaseURL': 'https://capstone-database-c7175-default-rtdb.firebaseio.com/'})\n",
    "else:\n",
    "    firebase_admin.delete_app(firebase_admin.get_app(name='[DEFAULT]'))\n",
    "    cred = credentials.Certificate('secretkey.json')\n",
    "    firebase_admin.initialize_app(cred,\n",
    "                                  {'databaseURL': 'https://capstone-database-c7175-default-rtdb.firebaseio.com/'})\n",
    "                                  \n",
    "r1 = db.reference(\"/Sensors/Magnetometer1/\") # reference to first sensor\n",
    "r2 = db.reference(\"/Sensors/Magnetometer2/\") # reference to second sesnor\n",
    "\n",
    "for i in range(1, 5): # populating 5 data points\\n\",\n",
    "    a = r1.push() # create a child node random key for new measurement magnetometer1\\n\",\n",
    "    b = r2.push() # create a child node randm key for new measurement magnetometer2\\n\",\n",
    "    a.update({\"unit\": \"degrees\", \"reading\": rd.random(), \"timestamp\": round(time.time()) % 1000}) # write in the corresponding data reading an>    \"    \n",
    "    b.update({\"unit\": \"degrees\", \"reading\": rd.random(), \"timestamp\": round(time.time()) % 1000}) # write in the corresponding data reading an>    \"    \n",
    "    time.sleep(15) # delaying every 15 seconds to write to the database \\n\",\n"
   ]
  }
 ],
 "metadata": {
  "kernelspec": {
   "display_name": "Python 3",
   "language": "python",
   "name": "python3"
  },
  "language_info": {
   "codemirror_mode": {
    "name": "ipython",
    "version": 3
   },
   "file_extension": ".py",
   "mimetype": "text/x-python",
   "name": "python",
   "nbconvert_exporter": "python",
   "pygments_lexer": "ipython3",
   "version": "3.8.5"
  }
 },
 "nbformat": 4,
 "nbformat_minor": 4
}
