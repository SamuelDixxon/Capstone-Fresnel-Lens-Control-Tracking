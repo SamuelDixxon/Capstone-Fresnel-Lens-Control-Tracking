{
 "cells": [
  {
   "cell_type": "code",
   "execution_count": null,
   "metadata": {},
   "outputs": [],
   "source": [
    "import firebase_admin\n",
    "from firebase_admin import credentials\n",
    "from firebase_admin import db\n",
    "import random as rd\n",
    "import time\n",
    "\n",
    "if not firebase_admin._apps:\n",
    "    cred = credentials.Certificate('secretkey.json')\n",
    "    firebase_admin.initialize_app(cred,\n",
    "                                  {'databaseURL': 'https://capstone-database-c7175-default-rtdb.firebaseio.com/'})\n",
    "else:\n",
    "    firebase_admin.delete_app(firebase_admin.get_app(name='[DEFAULT]'))\n",
    "    cred = credentials.Certificate('secretkey.json')\n",
    "    firebase_admin.initialize_app(cred,\n",
    "                                  {'databaseURL': 'https://capstone-database-c7175-default-rtdb.firebaseio.com/'})\n",
    "                                  \n",
    "r1 = db.reference(\"/Sensors/Magnetometer1/\") # reference to first sensor\n",
    "r2 = db.reference(\"/Sensors/Magnetometer2/\") # reference to second sesnor\n",
    "\n",
    "for i in range(1, 5): # populating 5 data points\\n\",\n",
    "    a = r1.push() # create a child node random key for new measurement magnetometer1\\n\",\n",
    "    b = r2.push() # create a child node randm key for new measurement magnetometer2\\n\",\n",
    "    a.update({\"unit\": \"degrees\", \"reading\": rd.random(), \"timestamp\": round(time.time()) % 1000}) # write in the corresponding data reading an>    \"    \n",
    "    b.update({\"unit\": \"degrees\", \"reading\": rd.random(), \"timestamp\": round(time.time()) % 1000}) # write in the corresponding data reading an>    \"    \n",
    "    time.sleep(15) # delaying every 15 seconds to write to the database \\n\",\n"
   ]
  },
  {
   "cell_type": "code",
   "execution_count": 7,
   "metadata": {},
   "outputs": [
    {
     "name": "stdout",
     "output_type": "stream",
     "text": [
      "None\n"
     ]
    }
   ],
   "source": [
    "print(db.reference(\"/Motor/\").get())"
   ]
  },
  {
   "cell_type": "code",
   "execution_count": 8,
   "metadata": {},
   "outputs": [
    {
     "ename": "FileNotFoundError",
     "evalue": "[Errno 2] No such file or directory: '/home/sdixon3090/CodingProjects/Projects/Running/running-analytics-firebase-adminsdk-n3aih-88937847be.json'",
     "output_type": "error",
     "traceback": [
      "\u001b[1;31m---------------------------------------------------------------------------\u001b[0m",
      "\u001b[1;31mFileNotFoundError\u001b[0m                         Traceback (most recent call last)",
      "\u001b[1;32m<ipython-input-8-6311d0b0dc7f>\u001b[0m in \u001b[0;36m<module>\u001b[1;34m\u001b[0m\n\u001b[1;32m----> 1\u001b[1;33m \u001b[0mcred\u001b[0m \u001b[1;33m=\u001b[0m \u001b[0mcredentials\u001b[0m\u001b[1;33m.\u001b[0m\u001b[0mCertificate\u001b[0m\u001b[1;33m(\u001b[0m\u001b[1;34m'/home/sdixon3090/CodingProjects/Projects/Running/running-analytics-firebase-adminsdk-n3aih-88937847be.json'\u001b[0m\u001b[1;33m)\u001b[0m\u001b[1;33m\u001b[0m\u001b[1;33m\u001b[0m\u001b[0m\n\u001b[0m",
      "\u001b[1;32m~\\anaconda3\\lib\\site-packages\\firebase_admin\\credentials.py\u001b[0m in \u001b[0;36m__init__\u001b[1;34m(self, cert)\u001b[0m\n\u001b[0;32m     81\u001b[0m         \u001b[0msuper\u001b[0m\u001b[1;33m(\u001b[0m\u001b[0mCertificate\u001b[0m\u001b[1;33m,\u001b[0m \u001b[0mself\u001b[0m\u001b[1;33m)\u001b[0m\u001b[1;33m.\u001b[0m\u001b[0m__init__\u001b[0m\u001b[1;33m(\u001b[0m\u001b[1;33m)\u001b[0m\u001b[1;33m\u001b[0m\u001b[1;33m\u001b[0m\u001b[0m\n\u001b[0;32m     82\u001b[0m         \u001b[1;32mif\u001b[0m \u001b[0m_is_file_path\u001b[0m\u001b[1;33m(\u001b[0m\u001b[0mcert\u001b[0m\u001b[1;33m)\u001b[0m\u001b[1;33m:\u001b[0m\u001b[1;33m\u001b[0m\u001b[1;33m\u001b[0m\u001b[0m\n\u001b[1;32m---> 83\u001b[1;33m             \u001b[1;32mwith\u001b[0m \u001b[0mopen\u001b[0m\u001b[1;33m(\u001b[0m\u001b[0mcert\u001b[0m\u001b[1;33m)\u001b[0m \u001b[1;32mas\u001b[0m \u001b[0mjson_file\u001b[0m\u001b[1;33m:\u001b[0m\u001b[1;33m\u001b[0m\u001b[1;33m\u001b[0m\u001b[0m\n\u001b[0m\u001b[0;32m     84\u001b[0m                 \u001b[0mjson_data\u001b[0m \u001b[1;33m=\u001b[0m \u001b[0mjson\u001b[0m\u001b[1;33m.\u001b[0m\u001b[0mload\u001b[0m\u001b[1;33m(\u001b[0m\u001b[0mjson_file\u001b[0m\u001b[1;33m)\u001b[0m\u001b[1;33m\u001b[0m\u001b[1;33m\u001b[0m\u001b[0m\n\u001b[0;32m     85\u001b[0m         \u001b[1;32melif\u001b[0m \u001b[0misinstance\u001b[0m\u001b[1;33m(\u001b[0m\u001b[0mcert\u001b[0m\u001b[1;33m,\u001b[0m \u001b[0mdict\u001b[0m\u001b[1;33m)\u001b[0m\u001b[1;33m:\u001b[0m\u001b[1;33m\u001b[0m\u001b[1;33m\u001b[0m\u001b[0m\n",
      "\u001b[1;31mFileNotFoundError\u001b[0m: [Errno 2] No such file or directory: '/home/sdixon3090/CodingProjects/Projects/Running/running-analytics-firebase-adminsdk-n3aih-88937847be.json'"
     ]
    }
   ],
   "source": []
  }
 ],
 "metadata": {
  "kernelspec": {
   "display_name": "Python 3",
   "language": "python",
   "name": "python3"
  },
  "language_info": {
   "codemirror_mode": {
    "name": "ipython",
    "version": 3
   },
   "file_extension": ".py",
   "mimetype": "text/x-python",
   "name": "python",
   "nbconvert_exporter": "python",
   "pygments_lexer": "ipython3",
   "version": "3.8.5"
  }
 },
 "nbformat": 4,
 "nbformat_minor": 4
}
