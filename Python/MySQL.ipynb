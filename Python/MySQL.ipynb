{
 "cells": [
  {
   "cell_type": "code",
   "execution_count": 6,
   "metadata": {},
   "outputs": [],
   "source": [
    "# DB instance identifier: database-1\n",
    "# username: admin\n",
    "# pass: Wearethe0ne!\n",
    "# host: database-1.cluster-cwlcubc14m5f.us-east-2.rds.amazonaws.com\n",
    "# port: 3306\n",
    "#!pip install PyMySQL\n",
    "import pymysql\n",
    "import time\n",
    "import random as rd\n",
    "import json\n",
    "import numpy as np"
   ]
  },
  {
   "cell_type": "code",
   "execution_count": 7,
   "metadata": {},
   "outputs": [
    {
     "name": "stdout",
     "output_type": "stream",
     "text": [
      "('8.0.28',)\n"
     ]
    }
   ],
   "source": [
    "db = pymysql.connect(host='capstone-test.cwlcubc14m5f.us-east-2.rds.amazonaws.com', database='capstone',\n",
    "                     user='admin', password='EuqmBmOUwNXcPlrHYJFM', port=3306)\n",
    "cursor = db.cursor()\n",
    "cursor.execute(\"select version()\") # get the version\n",
    "data = cursor.fetchone()\n",
    "print(data)\n",
    "sql = '''create database if not exists capstone''' # create the database\n",
    "cursor.execute(sql)\n",
    "cursor.connection.commit() # commit the change"
   ]
  },
  {
   "cell_type": "code",
   "execution_count": 31,
   "metadata": {},
   "outputs": [
    {
     "data": {
      "text/plain": [
       "0"
      ]
     },
     "execution_count": 31,
     "metadata": {},
     "output_type": "execute_result"
    }
   ],
   "source": [
    "sql = '''use capstone''' # sql command to use the database named capstone\n",
    "cursor.execute(sql) # executing the sql code \n",
    "sql = '''DROP table Data''' # dropping the old table so necessary for making changes to writing a new table\n",
    "cursor.execute(sql)\n",
    "sql = ''' \n",
    "create table Data (\n",
    "id int not null auto_increment,\n",
    "sensor text,\n",
    "x float,\n",
    "y float,\n",
    "z float,\n",
    "a_azimuth float,\n",
    "c_azimtuh float,\n",
    "a_elevation float,\n",
    "c_elevation float,\n",
    "temperature float,\n",
    "timestamp int,\n",
    "primary key (id)\n",
    ")''' # create table called data where data will be stored in a relational MySQL database\n",
    "cursor.execute(sql) # executing the sql in python"
   ]
  },
  {
   "cell_type": "code",
   "execution_count": 32,
   "metadata": {},
   "outputs": [
    {
     "data": {
      "text/plain": [
       "(('Data',),)"
      ]
     },
     "execution_count": 32,
     "metadata": {},
     "output_type": "execute_result"
    }
   ],
   "source": [
    "sql = '''show tables'''\n",
    "cursor.execute(sql) # executing the sql in python\n",
    "cursor.fetchall() # fetching all the data at the reference"
   ]
  },
  {
   "cell_type": "code",
   "execution_count": 33,
   "metadata": {},
   "outputs": [],
   "source": [
    "vals = np.linspace(0, 2*np.pi, 50)\n",
    "y1 = np.cos(vals)\n",
    "y2 = vals*vals\n",
    "\n",
    "\n",
    "for i in range(1, 10):\n",
    "    sql = '''insert into Data(sensor, value, timestamp) values('%s', '%f', '%d')''' % ('Magnetometer1', y1[i-1], i) # inserting these value\n",
    "    cursor.execute(sql)\n",
    "    sql = '''insert into Data(sensor, value, timestamp) values('%s', '%f', '%d')''' % ('Magnetometer2', y2[i-1], i) # inserting these valuess\n",
    "    cursor.execute(sql)"
   ]
  },
  {
   "cell_type": "code",
   "execution_count": 34,
   "metadata": {
    "scrolled": true
   },
   "outputs": [
    {
     "name": "stdout",
     "output_type": "stream",
     "text": [
      "((1, 'Magnetometer1', 1.0, 1), (2, 'Magnetometer2', 0.0, 1), (3, 'Magnetometer1', 0.99179, 2), (4, 'Magnetometer2', 0.016442, 2), (5, 'Magnetometer1', 0.967295, 3), (6, 'Magnetometer2', 0.06577, 3), (7, 'Magnetometer1', 0.926917, 4), (8, 'Magnetometer2', 0.147982, 4), (9, 'Magnetometer1', 0.871319, 5), (10, 'Magnetometer2', 0.26308, 5), (11, 'Magnetometer1', 0.801414, 6), (12, 'Magnetometer2', 0.411062, 6), (13, 'Magnetometer1', 0.718349, 7), (14, 'Magnetometer2', 0.59193, 7), (15, 'Magnetometer1', 0.62349, 8), (16, 'Magnetometer2', 0.805682, 8), (17, 'Magnetometer1', 0.518393, 9), (18, 'Magnetometer2', 1.05232, 9))\n",
      "{\"1\": {\"name\": \"Magnetometer1\", \"value\": 1.0, \"timestamp\": 1}, \"2\": {\"name\": \"Magnetometer2\", \"value\": 0.0, \"timestamp\": 1}, \"3\": {\"name\": \"Magnetometer1\", \"value\": 0.99179, \"timestamp\": 2}, \"4\": {\"name\": \"Magnetometer2\", \"value\": 0.016442, \"timestamp\": 2}, \"5\": {\"name\": \"Magnetometer1\", \"value\": 0.967295, \"timestamp\": 3}, \"6\": {\"name\": \"Magnetometer2\", \"value\": 0.06577, \"timestamp\": 3}, \"7\": {\"name\": \"Magnetometer1\", \"value\": 0.926917, \"timestamp\": 4}, \"8\": {\"name\": \"Magnetometer2\", \"value\": 0.147982, \"timestamp\": 4}, \"9\": {\"name\": \"Magnetometer1\", \"value\": 0.871319, \"timestamp\": 5}, \"10\": {\"name\": \"Magnetometer2\", \"value\": 0.26308, \"timestamp\": 5}, \"11\": {\"name\": \"Magnetometer1\", \"value\": 0.801414, \"timestamp\": 6}, \"12\": {\"name\": \"Magnetometer2\", \"value\": 0.411062, \"timestamp\": 6}, \"13\": {\"name\": \"Magnetometer1\", \"value\": 0.718349, \"timestamp\": 7}, \"14\": {\"name\": \"Magnetometer2\", \"value\": 0.59193, \"timestamp\": 7}, \"15\": {\"name\": \"Magnetometer1\", \"value\": 0.62349, \"timestamp\": 8}, \"16\": {\"name\": \"Magnetometer2\", \"value\": 0.805682, \"timestamp\": 8}, \"17\": {\"name\": \"Magnetometer1\", \"value\": 0.518393, \"timestamp\": 9}, \"18\": {\"name\": \"Magnetometer2\", \"value\": 1.05232, \"timestamp\": 9}}\n"
     ]
    }
   ],
   "source": [
    "sql = '''select * from Data'''\n",
    "cursor.execute(sql) # executing the sql in python\n",
    "cursor.connection.commit() # commit the change\n",
    "result = cursor.fetchall() # fetching all the data at the reference\n",
    "print(result)\n",
    "\n",
    "class create_dict(dict): \n",
    "  \n",
    "    # __init__ function \n",
    "    def __init__(self): \n",
    "        self = dict() \n",
    "          \n",
    "    # Function to add key:value \n",
    "    def add(self, key, value): \n",
    "        self[key] = value\n",
    "        \n",
    "mydict = create_dict()\n",
    "\n",
    "for row in result:\n",
    "    mydict.add(row[0],({\"name\":row[1],\"value\":row[2],\"timestamp\":row[3]}))\n",
    "\n",
    "a = json.dumps(mydict)\n",
    "print(a)"
   ]
  },
  {
   "cell_type": "code",
   "execution_count": 31,
   "metadata": {},
   "outputs": [
    {
     "name": "stdout",
     "output_type": "stream",
     "text": [
      "{'Memory': {'doubleValue': '2'}, 'Name': {'stringValue': 'Additional Old ESP32'}}\n",
      "1674424158\n"
     ]
    }
   ],
   "source": [
    "import json\n",
    "import time\n",
    "print(json.loads('{\"fields\":{\"Memory\":{\"doubleValue\":\"2\"},\"Name\":{\"stringValue\":\"Additional Old ESP32\"}}}')['fields'])\n",
    "print(round(time.time()))\n",
    "\n",
    "\n",
    "sql = '''insert into Running(sensor, value, timestamp) values('%s', '%f', '%d')''' % )\n",
    "    cursor.execute(sql)"
   ]
  }
 ],
 "metadata": {
  "kernelspec": {
   "display_name": "Python 3",
   "language": "python",
   "name": "python3"
  },
  "language_info": {
   "codemirror_mode": {
    "name": "ipython",
    "version": 3
   },
   "file_extension": ".py",
   "mimetype": "text/x-python",
   "name": "python",
   "nbconvert_exporter": "python",
   "pygments_lexer": "ipython3",
   "version": "3.8.5"
  }
 },
 "nbformat": 4,
 "nbformat_minor": 4
}
