{
 "cells": [
  {
   "cell_type": "markdown",
   "metadata": {},
   "source": [
    "# Include Statements for running the following modules to interact with the MySQL Webserver on AWS"
   ]
  },
  {
   "cell_type": "code",
   "execution_count": 17,
   "metadata": {},
   "outputs": [
    {
     "name": "stdout",
     "output_type": "stream",
     "text": [
      "Requirement already satisfied: pymysql in c:\\users\\sdixo\\anaconda3\\lib\\site-packages (1.0.2)\n"
     ]
    },
    {
     "name": "stderr",
     "output_type": "stream",
     "text": [
      "WARNING: Ignoring invalid distribution -atplotlib (c:\\users\\sdixo\\anaconda3\\lib\\site-packages)\n",
      "WARNING: Ignoring invalid distribution -atplotlib (c:\\users\\sdixo\\anaconda3\\lib\\site-packages)\n",
      "WARNING: Ignoring invalid distribution -atplotlib (c:\\users\\sdixo\\anaconda3\\lib\\site-packages)\n",
      "WARNING: Ignoring invalid distribution -atplotlib (c:\\users\\sdixo\\anaconda3\\lib\\site-packages)\n",
      "WARNING: Ignoring invalid distribution -atplotlib (c:\\users\\sdixo\\anaconda3\\lib\\site-packages)\n",
      "WARNING: Ignoring invalid distribution -atplotlib (c:\\users\\sdixo\\anaconda3\\lib\\site-packages)\n",
      "\n",
      "[notice] A new release of pip is available: 23.0.1 -> 23.1.1\n",
      "[notice] To update, run: python.exe -m pip install --upgrade pip\n"
     ]
    }
   ],
   "source": [
    "!pip install pymysql\n",
    "import pymysql\n",
    "import time\n",
    "import random as rd\n",
    "import json\n",
    "import numpy as np"
   ]
  },
  {
   "cell_type": "markdown",
   "metadata": {},
   "source": [
    "# Connection to the database"
   ]
  },
  {
   "cell_type": "code",
   "execution_count": 18,
   "metadata": {},
   "outputs": [
    {
     "name": "stdout",
     "output_type": "stream",
     "text": [
      "('8.0.28',)\n"
     ]
    }
   ],
   "source": [
    "db = pymysql.connect(host='capstone-test.cwlcubc14m5f.us-east-2.rds.amazonaws.com', database='capstone',\n",
    "                     user='admin', password='EuqmBmOUwNXcPlrHYJFM', port=3306) # create a connection based on parametric data\n",
    "cursor = db.cursor()\n",
    "cursor.execute(\"select version()\") # get the version\n",
    "data = cursor.fetchone()\n",
    "print(data)\n",
    "sql = '''create database if not exists capstone''' # create the database\n",
    "cursor.execute(sql)\n",
    "cursor.connection.commit() # commit the change"
   ]
  },
  {
   "cell_type": "markdown",
   "metadata": {},
   "source": [
    "# Resetting the data in the database"
   ]
  },
  {
   "cell_type": "code",
   "execution_count": 19,
   "metadata": {},
   "outputs": [
    {
     "data": {
      "text/plain": [
       "0"
      ]
     },
     "execution_count": 19,
     "metadata": {},
     "output_type": "execute_result"
    }
   ],
   "source": [
    "sql = '''use capstone''' # sql command to use the database named capstone\n",
    "cursor.execute(sql) # executing the sql code \n",
    "sql = '''DROP table Data''' # dropping the old table so necessary for making changes to writing a new table\n",
    "cursor.execute(sql)\n",
    "sql = ''' \n",
    "create table Data (\n",
    "id int not null auto_increment,\n",
    "sensor text,\n",
    "x float,\n",
    "y float,\n",
    "z float,\n",
    "actual_azimuth float,\n",
    "computed_azimuth float,\n",
    "actual_elevation float,\n",
    "computed_elevation float,\n",
    "timestamp int,\n",
    "primary key (id)\n",
    ")''' # create table called data where data will be stored in a relational MySQL database\n",
    "cursor.execute(sql) # executing the sql in python"
   ]
  },
  {
   "cell_type": "markdown",
   "metadata": {},
   "source": [
    "# Showing the data in the tables"
   ]
  },
  {
   "cell_type": "code",
   "execution_count": 4,
   "metadata": {},
   "outputs": [
    {
     "data": {
      "text/plain": [
       "(('Data',),)"
      ]
     },
     "execution_count": 4,
     "metadata": {},
     "output_type": "execute_result"
    }
   ],
   "source": [
    "sql = '''show tables'''\n",
    "cursor.execute(sql) # executing the sql in python\n",
    "cursor.fetchall() # fetching all the data at the reference"
   ]
  },
  {
   "cell_type": "markdown",
   "metadata": {},
   "source": [
    "# Inserting SQL Data into the table (Under Revision)"
   ]
  },
  {
   "cell_type": "code",
   "execution_count": 10,
   "metadata": {},
   "outputs": [],
   "source": [
    "from numpy import random as rd\n",
    "import time as t\n",
    "\n",
    "for i in range(1, 10):\n",
    "    \n",
    "    if (i % 2 == 0):\n",
    "        \n",
    "        t = ('Magnetometer1', rd.rand(), rd.rand(), rd.rand(), rd.rand(), rd.rand()) # inserting these value\n",
    "        \n",
    "        sql = '''insert into Data(sensor, x, y, z, actual_azimuth, computed_azimuth) values('%s', '%f', '%f', '%f', '%f', '%f')''' % t\n",
    "    else:\n",
    "        sql = '''insert into Data(sensor, x, y, z, actual_elevation, computed_elevation) values('%s', '%f', '%f', '%f', '%f', '%f')''' % ('Accelerometer1', rd.rand(), rd.rand(), rd.rand(), rd.rand(), rd.rand()) # inserting these value\n",
    "        \n",
    "    cursor.execute(sql)\n"
   ]
  },
  {
   "cell_type": "markdown",
   "metadata": {},
   "source": [
    "# Selecting all from the data table and then printing out key parametrics (Under Revision)"
   ]
  },
  {
   "cell_type": "code",
   "execution_count": 7,
   "metadata": {
    "scrolled": true
   },
   "outputs": [
    {
     "name": "stdout",
     "output_type": "stream",
     "text": [
      "()\n",
      "{}\n"
     ]
    }
   ],
   "source": [
    "sql = '''select * from Data'''\n",
    "cursor.execute(sql) # executing the sql in python\n",
    "cursor.connection.commit() # commit the change\n",
    "result = cursor.fetchall() # fetching all the data at the reference\n",
    "print(result)\n",
    "\n",
    "class create_dict(dict): \n",
    "    # __init__ function \n",
    "    def __init__(self): \n",
    "        self = dict() \n",
    "    # Function to add key:value \n",
    "    def add(self, key, value): \n",
    "        self[key] = value\n",
    "        \n",
    "mydict = create_dict()\n",
    "\n",
    "for row in result:\n",
    "    sensor_key = row[1]\n",
    "    x = row[2]\n",
    "    y = row[3]\n",
    "    z = row[4]\n",
    "    # ae represents actual elevation and ce represents the computed elevation\n",
    "    # actual elevation corresponds to the angle computed by the accelerometer\n",
    "    # computed elevation corresponds to the value that the system will be updated to (web-based parametric data)\n",
    "    # aa represents actual azimuth and ca represents the computed azimuth \n",
    "    # actual azikmuth corresponds to the angle computed by the magnetometer\n",
    "    # computed azimuth corresponds to the value that the system will be updated to (web-based parametric data)\n",
    "    if sensor_key == \"Accelerometer1\":\n",
    "        mydict.add(row[0],({\"name\":row[1],\"x\":row[2],\"y\":row[3],\"z\":row[4],\"ae\": row[7], \"ce\": row[8], \"t\": row[9]}))\n",
    "    elif sensor_key == \"Magetometer1\":\n",
    "        mydict.add(row[0],({\"name\":row[1],\"x\":row[2],\"y\":row[3],\"z\":row[4],\"aa\": row[5], \"ca\": row[6], \"t\": row[9]}))\n",
    "a = json.dumps(mydict)\n",
    "\n",
    "print(a)"
   ]
  },
  {
   "cell_type": "code",
   "execution_count": 62,
   "metadata": {},
   "outputs": [],
   "source": [
    "# import json\n",
    "# my_dict = {\"sensor\": \"Magnetometer1\", \"x\": \"1.94\", \"y\": \"1.94\", \"z\": \"1.94\", \"actual_azimuth\": \"4.5\", \"computed_azimuth\": \"4.5\", \"actual_elevation\": \"4.5\", \"computed_elevation\": \"4.5\", \"temperature\": \"30.4\"}\n",
    "# data = json.loads(str(my_dict)) # load the body of the response\n",
    "# print(data)"
   ]
  },
  {
   "cell_type": "code",
   "execution_count": 49,
   "metadata": {},
   "outputs": [
    {
     "name": "stdout",
     "output_type": "stream",
     "text": [
      "1681621824.5999098\n"
     ]
    }
   ],
   "source": [
    "import time \n",
    "t = time.time()\n",
    "print(t)"
   ]
  },
  {
   "cell_type": "code",
   "execution_count": null,
   "metadata": {},
   "outputs": [],
   "source": []
  }
 ],
 "metadata": {
  "kernelspec": {
   "display_name": "Python 3",
   "language": "python",
   "name": "python3"
  },
  "language_info": {
   "codemirror_mode": {
    "name": "ipython",
    "version": 3
   },
   "file_extension": ".py",
   "mimetype": "text/x-python",
   "name": "python",
   "nbconvert_exporter": "python",
   "pygments_lexer": "ipython3",
   "version": "3.8.5"
  }
 },
 "nbformat": 4,
 "nbformat_minor": 4
}
