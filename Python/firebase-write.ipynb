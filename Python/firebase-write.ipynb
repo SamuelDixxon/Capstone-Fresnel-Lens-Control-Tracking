{
 "cells": [
  {
   "cell_type": "code",
   "execution_count": 86,
   "metadata": {},
   "outputs": [
    {
     "name": "stdout",
     "output_type": "stream",
     "text": [
      "971.1829929351807\n"
     ]
    }
   ],
   "source": [
    "import firebase_admin\n",
    "from firebase_admin import credentials\n",
    "from firebase_admin import db\n",
    "import random as rd\n",
    "import time\n",
    "\n",
    "if not firebase_admin._apps: \n",
    "    cred = credentials.Certificate('secretkey.json')\n",
    "    firebase_admin.initialize_app(cred, {\n",
    "        'databaseURL': 'https://capstone-database-c7175-default-rtdb.firebaseio.com/'\n",
    "    })\n",
    "else:\n",
    "    firebase_admin.delete_app(firebase_admin.get_app(name='[DEFAULT]')) # delete to reinitialize with url\n",
    "    cred = credentials.Certificate('secretkey.json')\n",
    "    firebase_admin.initialize_app(cred, {\n",
    "        'databaseURL': 'https://capstone-database-c7175-default-rtdb.firebaseio.com/'\n",
    "    })\n",
    "    \n",
    "r1 = db.reference(\"/Sensors/Magnetometer1/\") # reference to first sensor\n",
    "r2 = db.reference(\"/Sensors/Magnetometer2/\") # reference to second sesnor\n",
    "\n",
    "for i in range(1, 5): # populating 5 data points\n",
    "    a = r1.push() # create a child node random key for new measurement magnetometer1\n",
    "    b = r2.push() # create a child node randm key for new measurement magnetometer2\n",
    "    a.update({\"unit\": \"degrees\", \"reading\": rd.random(), \"timestamp\": round(time.time()) % 1000}) # write in the corresponding data reading and timestamp\n",
    "    b.update({\"unit\": \"degrees\", \"reading\": rd.random(), \"timestamp\": round(time.time()) % 1000}) # write in the corresponding data reading and timestamp\n",
    "    time.sleep(15) # delaying every 15 seconds to write to the database \n",
    "\n",
    "print((time.time() % 1000))\n"
   ]
  }
 ],
 "metadata": {
  "kernelspec": {
   "display_name": "Python 3",
   "language": "python",
   "name": "python3"
  }
 },
 "nbformat": 4,
 "nbformat_minor": 4
}
